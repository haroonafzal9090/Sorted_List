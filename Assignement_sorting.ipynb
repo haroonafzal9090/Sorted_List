{
 "cells": [
  {
   "cell_type": "code",
   "execution_count": 10,
   "id": "f5cae4b7",
   "metadata": {},
   "outputs": [
    {
     "name": "stdout",
     "output_type": "stream",
     "text": [
      "Friends_name: Azan , City: Lahore , Distance: 2 , Relationship: 1\n",
      "Friends_name: Abdul , City: Islamabad , Distance: 4 , Relationship: 3\n",
      "Friends_name: Ammad , City: Hyderabad , Distance: 6 , Relationship: 4\n",
      "Friends_name: Hamza , City: Peshawar , Distance: 10 , Relationship: 7\n",
      "Friends_name: Yahya , City: Bhawalpur , Distance: 16 , Relationship: 11\n",
      "Friends_name: Moosa , City: Multan , Distance: 26 , Relationship: 18\n"
     ]
    }
   ],
   "source": [
    "friends_name = [\"Azan\", \"Abdul\", \"Ammad\", \"Hamza\", \"Yahya\", \"Moosa\"]\n",
    "name_of_cities = [\"Lahore\", \"Islamabad\", \"Hyderabad\", \"Peshawar\", \"Bhawalpur\", \"Multan\"]\n",
    "distance = [2, 4, 6, 10, 16, 26]\n",
    "relation_with_friends = [1, 3, 4, 7, 11, 18]\n",
    "j = 0\n",
    "for elem in friends_name:\n",
    "    print(\"Friends_name:\", elem, end=\" , \")\n",
    "    print(\"City:\", name_of_cities[j], end=\" , \")\n",
    "    print(\"Distance:\", distance[j], end=\" , \")\n",
    "    print(\"Relationship:\", relation_with_friends[j])\n",
    "    j += 1"
   ]
  },
  {
   "cell_type": "code",
   "execution_count": 12,
   "id": "df687d2a",
   "metadata": {},
   "outputs": [
    {
     "name": "stdout",
     "output_type": "stream",
     "text": [
      "Friends_Name: Azan , City: Lahore , Distance: 2 , Relationship: , 1\n",
      "Friends_Name: Abdul , City: Islamabad , Distance: 4 , Relationship: , 3\n",
      "Friends_Name: Ammad , City: Hyderabad , Distance: 6 , Relationship: , 4\n",
      "Friends_Name: Hamza , City: Peshawar , Distance: 10 , Relationship: , 7\n",
      "Friends_Name: Yahya , City: Bhawalpur , Distance: 16 , Relationship: , 11\n",
      "Friends_Name: Moosa , City: Multan , Distance: 26 , Relationship: , 18\n"
     ]
    }
   ],
   "source": [
    "lst = [[\"Azan\", \"Lahore\", 2, 1],[\"Abdul\", \"Islamabad\", 4, 3],[\"Ammad\", \"Hyderabad\", 6, 4],[\"Hamza\", \"Peshawar\", 10, 7],\n",
    "[\"Yahya\", \"Bhawalpur\", 16, 11],[\"Moosa\", \"Multan\", 26, 18]]\n",
    "for i, j in enumerate(lst):\n",
    "    print(\"Friends_Name:\",lst[i][0],\",\",\"City:\",lst[i][1],\",\",\"Distance:\",lst[i][2],\",\",\"Relationship:\",\",\",lst[i][3])"
   ]
  },
  {
   "cell_type": "code",
   "execution_count": 13,
   "id": "a26dff68",
   "metadata": {},
   "outputs": [
    {
     "name": "stdout",
     "output_type": "stream",
     "text": [
      "26\n",
      "2\n",
      "Unsorted List\n",
      "10\n",
      "Unsorted List\n",
      "6\n",
      "Unsorted List\n",
      "4\n",
      "Unsorted List\n",
      "16\n",
      "Unsorted List\n",
      "\n",
      "\n",
      "[['Azan', 'Lahore', 26, 1], ['Abdul', 'Islamabad', 2, 3], ['Ammad', 'Hyderabad', 10, 4], ['Hamza', 'Peshawar', 6, 7], ['Yahya', 'Bhawalpur', 4, 11], ['Moosa', 'Multan', 16, 18]] \n",
      "\n",
      "SORTED LIST DISTANCE WISE: \n",
      "\n",
      "[['Abdul', 'Islamabad', 2, 3], ['Yahya', 'Bhawalpur', 4, 11], ['Hamza', 'Peshawar', 6, 7], ['Ammad', 'Hyderabad', 10, 4], ['Moosa', 'Multan', 16, 18], ['Azan', 'Lahore', 26, 1]]\n"
     ]
    }
   ],
   "source": [
    "new_list = []\n",
    "compare = data[2]\n",
    "data = [\"Azan\", \"Lahore\", 26, 1,\n",
    "        \"Abdul\", \"Islamabad\", 2, 3, \n",
    "        \"Ammad\", \"Hyderabad\", 10, 4,\n",
    "        \"Hamza\", \"Peshawar\", 6, 7, \n",
    "        \"Yahya\", \"Bhawalpur\", 4, 11, \n",
    "        \"Moosa\", \"Multan\", 16, 18]\n",
    "compare = data[2]\n",
    "for i in range(2, len(data), 4):\n",
    "    print(data[i])\n",
    "    if compare > data[i]:\n",
    "        print(\"Unsorted List\")\n",
    "for j in range(0, len(data), 4):\n",
    "    new_list.append(data[j:j+4])\n",
    "print(\"\\n\")    \n",
    "print(new_list, \"\\n\")\n",
    "def sort(a):\n",
    "    return(a[2])\n",
    "\n",
    "print(\"SORTED LIST DISTANCE WISE:\",\"\\n\")\n",
    "print(sorted(new_list, key=sort))"
   ]
  },
  {
   "cell_type": "code",
   "execution_count": null,
   "id": "50494b43",
   "metadata": {},
   "outputs": [],
   "source": []
  }
 ],
 "metadata": {
  "kernelspec": {
   "display_name": "Python 3 (ipykernel)",
   "language": "python",
   "name": "python3"
  },
  "language_info": {
   "codemirror_mode": {
    "name": "ipython",
    "version": 3
   },
   "file_extension": ".py",
   "mimetype": "text/x-python",
   "name": "python",
   "nbconvert_exporter": "python",
   "pygments_lexer": "ipython3",
   "version": "3.9.12"
  }
 },
 "nbformat": 4,
 "nbformat_minor": 5
}
